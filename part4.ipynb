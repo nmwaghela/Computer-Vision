{
 "cells": [
  {
   "cell_type": "markdown",
   "id": "021ccb6b",
   "metadata": {},
   "source": [
    "I, Nishita Mukeshbhai Waghela, declare that I have read and understood the Academic Integrity Policy.\n",
    "\n"
   ]
  }
 ],
 "metadata": {
  "language_info": {
   "name": "python"
  }
 },
 "nbformat": 4,
 "nbformat_minor": 5
}
